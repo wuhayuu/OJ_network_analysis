{
 "cells": [
  {
   "cell_type": "code",
   "execution_count": null,
   "metadata": {},
   "outputs": [],
   "source": [
    "import networkx as nx\n",
    "import pandas as pd\n",
    "from operator import itemgetter\n",
    "import matplotlib.pyplot as plt\n"
   ]
  },
  {
   "cell_type": "code",
   "execution_count": null,
   "metadata": {},
   "outputs": [],
   "source": [
    "zoj_G = nx.read_edgelist('./nx_create/nx_graph_df_zoj.csv'\n",
    "                     , create_using=nx.Graph()\n",
    "                     , nodetype=int\n",
    "                     , data=[('weight', int)]\n",
    "                     )"
   ]
  },
  {
   "cell_type": "code",
   "execution_count": null,
   "metadata": {
    "scrolled": true
   },
   "outputs": [],
   "source": [
    "list(zoj_G.edges(data=True))\n"
   ]
  },
  {
   "cell_type": "code",
   "execution_count": null,
   "metadata": {},
   "outputs": [],
   "source": [
    "len(list(zoj_G.edges(data=True)))"
   ]
  },
  {
   "cell_type": "code",
   "execution_count": null,
   "metadata": {
    "scrolled": true
   },
   "outputs": [],
   "source": []
  },
  {
   "cell_type": "code",
   "execution_count": null,
   "metadata": {
    "scrolled": true
   },
   "outputs": [],
   "source": []
  },
  {
   "cell_type": "code",
   "execution_count": null,
   "metadata": {
    "scrolled": true
   },
   "outputs": [],
   "source": []
  },
  {
   "cell_type": "code",
   "execution_count": null,
   "metadata": {},
   "outputs": [],
   "source": [
    "pos = nx.spring_layout(zoj_G) \n",
    "plt.figure(figsize = (15, 15)) \n",
    "node_item_id = 1001\n",
    "#networkx.draw_networkx_labels(purchasedAsinEgoGraph, pos, font_size = 18) \n",
    "edgewidth = [d['weight'] for (u, v, d) in zoj_G.edges(data = True)]\n",
    "nx.draw(zoj_G, pos = pos, node_size = 50, node_color='g', edge_color= edgewidth, style = 'solid')\n",
    "nx.draw_networkx_nodes(zoj_G, pos = pos, nodelist= [node_item_id], node_color= 'r', node_size = 50)\n",
    "plt.show()"
   ]
  },
  {
   "cell_type": "code",
   "execution_count": null,
   "metadata": {},
   "outputs": [],
   "source": [
    "# std = 10\n",
    "threshold = 3 \n",
    "GivenNodeIslands = nx.Graph()\n",
    "for f, t, e in zoj_G.edges(data = True):\n",
    "    if e['weight'] >= threshold:\n",
    "        GivenNodeIslands.add_edge(f, t, weight = e['weight'])\n",
    "node_TrimGraph = nx.Graph(GivenNodeIslands)"
   ]
  },
  {
   "cell_type": "code",
   "execution_count": null,
   "metadata": {},
   "outputs": [],
   "source": []
  },
  {
   "cell_type": "code",
   "execution_count": null,
   "metadata": {},
   "outputs": [],
   "source": [
    "plt.figure(figsize = (10, 10)) \n",
    "neg1 = 1002\n",
    "# (1000, 1001, {'weight': 453})\n",
    "neg2 = 2056\n",
    "#(1000, 2056, {'weight': 14})\n",
    "#networkx.draw_networkx_labels(purchasedAsinEgoTrimGraph, pos, font_size = 18) \n",
    "edgewidth = [d['weight'] for (u, v, d) in node_TrimGraph.edges(data = True)]\n",
    "nx.draw_networkx_nodes(node_TrimGraph, pos = pos, nodelist= nx.nodes(node_TrimGraph), node_color='g') \n",
    "nx.draw_networkx_edges(node_TrimGraph, pos = pos, edgelist= node_TrimGraph.edges)\n",
    "nx.draw_networkx_nodes(node_TrimGraph, pos = pos, nodelist= [node_item_id], node_color= 'r') #ego node\n",
    "nx.draw_networkx_nodes(node_TrimGraph, pos = pos, nodelist= [neg1], node_color= 'b') #ego node\n",
    "nx.draw_networkx_nodes(node_TrimGraph, pos = pos, nodelist= [neg2], node_color= 'r') #ego node\n",
    "plt.show()\n",
    "#共现次数越大越近\n"
   ]
  },
  {
   "cell_type": "code",
   "execution_count": null,
   "metadata": {},
   "outputs": [],
   "source": []
  },
  {
   "cell_type": "code",
   "execution_count": null,
   "metadata": {},
   "outputs": [],
   "source": [
    "# demo[1001],demo[1000],demo[2056]"
   ]
  },
  {
   "cell_type": "code",
   "execution_count": null,
   "metadata": {
    "scrolled": true
   },
   "outputs": [],
   "source": [
    "node_TrimGraph.edges(data = True)"
   ]
  },
  {
   "cell_type": "code",
   "execution_count": null,
   "metadata": {},
   "outputs": [],
   "source": [
    "nx.number_of_nodes(node_TrimGraph)"
   ]
  },
  {
   "cell_type": "code",
   "execution_count": null,
   "metadata": {
    "scrolled": true
   },
   "outputs": [],
   "source": [
    "\n",
    "# pr = nx.pagerank(zoj_G)\n",
    "# pr"
   ]
  },
  {
   "cell_type": "code",
   "execution_count": null,
   "metadata": {},
   "outputs": [],
   "source": [
    "node_item_id_Neighbors = [n for n in node_TrimGraph.neighbors(node_item_id)]"
   ]
  },
  {
   "cell_type": "code",
   "execution_count": null,
   "metadata": {
    "scrolled": true
   },
   "outputs": [],
   "source": [
    "node_item_id_Neighbors"
   ]
  },
  {
   "cell_type": "code",
   "execution_count": null,
   "metadata": {},
   "outputs": [],
   "source": [
    "zoj = pd.read_csv('./nx_create/nx_graph_df_zoj.csv',header=None,sep=' ',names=['source','target','weight'])"
   ]
  },
  {
   "cell_type": "code",
   "execution_count": null,
   "metadata": {},
   "outputs": [],
   "source": [
    "zoj"
   ]
  },
  {
   "cell_type": "code",
   "execution_count": null,
   "metadata": {},
   "outputs": [],
   "source": [
    "from tqdm import tqdm\n",
    "node_dict_degree_clus = {}\n",
    "pr = nx.pagerank(zoj_G)\n",
    "\n",
    "degree_centralityG = nx.degree_centrality(zoj_G)\n",
    "\n",
    "eigenvector_centralityG = nx.eigenvector_centrality(zoj_G,weight='weight')\n",
    "\n",
    "average_degree_connectivityG = nx.average_degree_connectivity(zoj_G, weight=\"weight\")\n",
    "\n",
    "\n",
    "betweenness_centralityG = nx.betweenness_centrality(zoj_G,weight='weight')\n",
    "for node_id in tqdm(nx.nodes(zoj_G)):\n",
    "    metadata = {}\n",
    "    metadata['PageRank'] = round(pr[node_id],5)\n",
    "    metadata['DegreeCentrality'] = round(degree_centralityG[node_id],5)\n",
    "    metadata['EigenvectorCentrality'] = round(eigenvector_centralityG[node_id],5)\n",
    "    metadata['HarmonicCentrality'] = round(harmonic_centralityG[node_id],5)\n",
    "    metadata['BetweennessCentrality'] = round(betweenness_centralityG[node_id],5)\n",
    "    ego = nx.ego_graph(zoj_G, node_id, distance='weight')\n",
    "    metadata['ClusteringCoeff'] = round(nx.average_clustering(ego,weight='weight'),5)\n",
    "    node_dict_degree_clus[node_id] = metadata\n",
    "\n",
    "   "
   ]
  },
  {
   "cell_type": "code",
   "execution_count": null,
   "metadata": {
    "scrolled": true
   },
   "outputs": [],
   "source": [
    "node_dict_degree_clus"
   ]
  },
  {
   "cell_type": "code",
   "execution_count": null,
   "metadata": {},
   "outputs": [],
   "source": []
  },
  {
   "cell_type": "code",
   "execution_count": null,
   "metadata": {},
   "outputs": [],
   "source": [
    "import pickle\n",
    "pickle.dump(node_dict_degree_clus, open( 'zoj_node_dict_Centrality_clus.pkl', 'wb'))   "
   ]
  },
  {
   "cell_type": "code",
   "execution_count": null,
   "metadata": {},
   "outputs": [],
   "source": []
  },
  {
   "cell_type": "code",
   "execution_count": null,
   "metadata": {
    "scrolled": true
   },
   "outputs": [],
   "source": []
  },
  {
   "cell_type": "code",
   "execution_count": null,
   "metadata": {
    "scrolled": true
   },
   "outputs": [],
   "source": [
    "node_dict_degree_clus.items()"
   ]
  },
  {
   "cell_type": "code",
   "execution_count": null,
   "metadata": {},
   "outputs": [],
   "source": [
    "\n",
    "zoj_sna = []\n",
    "for item_id,metadata in tqdm(node_dict_degree_clus.items()):\n",
    "    singledata = {}\n",
    "    singledata['item_id'] = item_id\n",
    "    singledata['PageRank'] = metadata['PageRank']\n",
    "    singledata['DegreeCentrality'] = metadata['DegreeCentrality']\n",
    "    singledata['EigenvectorCentrality'] = metadata['EigenvectorCentrality']\n",
    "    singledata['HarmonicCentrality'] = metadata['HarmonicCentrality']\n",
    "    singledata['BetweennessCentrality'] = metadata['BetweennessCentrality']\n",
    "    singledata['ClusteringCoeff'] = metadata['ClusteringCoeff']\n",
    "    zoj_sna.append(singledata)\n",
    "    "
   ]
  },
  {
   "cell_type": "code",
   "execution_count": null,
   "metadata": {},
   "outputs": [],
   "source": [
    "zoj_sna_analysis = pd.DataFrame(zoj_sna)"
   ]
  },
  {
   "cell_type": "code",
   "execution_count": null,
   "metadata": {},
   "outputs": [],
   "source": [
    "zoj_sna_analysis_item_id = zoj_sna_analysis.set_index('item_id')\n",
    "\n"
   ]
  },
  {
   "cell_type": "code",
   "execution_count": null,
   "metadata": {},
   "outputs": [],
   "source": [
    "zoj_sna_analysis_item_id"
   ]
  },
  {
   "cell_type": "code",
   "execution_count": null,
   "metadata": {
    "scrolled": true
   },
   "outputs": [],
   "source": [
    "sanple_item_id_Neighbors = [n for n in node_TrimGraph.neighbors(node_item_id)]\n",
    "sanple_item_id_Neighbors"
   ]
  },
  {
   "cell_type": "code",
   "execution_count": null,
   "metadata": {},
   "outputs": [],
   "source": []
  },
  {
   "cell_type": "code",
   "execution_count": null,
   "metadata": {},
   "outputs": [],
   "source": [
    "import seaborn as sns\n",
    "zoj_sna_analysis_item_id.corr()"
   ]
  },
  {
   "cell_type": "code",
   "execution_count": null,
   "metadata": {},
   "outputs": [],
   "source": [
    "distimage = sns.pairplot(zoj_sna_analysis_item_id.loc[sanple_item_id_Neighbors, ['PageRank', 'DegreeCentrality', 'EigenvectorCentrality', 'HarmonicCentrality', 'ClusteringCoeff']], kind = 'reg', diag_kind='kde')\n"
   ]
  },
  {
   "cell_type": "code",
   "execution_count": null,
   "metadata": {},
   "outputs": [],
   "source": []
  },
  {
   "cell_type": "code",
   "execution_count": null,
   "metadata": {},
   "outputs": [],
   "source": []
  },
  {
   "cell_type": "code",
   "execution_count": null,
   "metadata": {},
   "outputs": [],
   "source": [
    "import numpy as np\n",
    "max_min_scaler = lambda x : (x-np.min(x))/(np.max(x)-np.min(x))\n",
    "\n",
    "zoj_sna_analysis['HarmonicCentrality'] = zoj_sna_analysis[['HarmonicCentrality']].apply(max_min_scaler)\n",
    "zoj_sna_analysis_item_id['HarmonicCentrality'] = zoj_sna_analysis_item_id[['HarmonicCentrality']].apply(max_min_scaler)\n",
    "\n",
    "\n",
    "##\n",
    "zoj_sna_analysis['PageRank'] = zoj_sna_analysis[['PageRank']].apply(max_min_scaler)\n",
    "zoj_sna_analysis_item_id['PageRank'] = zoj_sna_analysis_item_id[['PageRank']].apply(max_min_scaler)\n",
    "\n",
    "##\n",
    "zoj_sna_analysis['DegreeCentrality'] = zoj_sna_analysis[['DegreeCentrality']].apply(max_min_scaler)\n",
    "zoj_sna_analysis_item_id['DegreeCentrality'] = zoj_sna_analysis_item_id[['DegreeCentrality']].apply(max_min_scaler)\n",
    "##\n",
    "\n",
    "zoj_sna_analysis['EigenvectorCentrality'] = zoj_sna_analysis[['EigenvectorCentrality']].apply(max_min_scaler)\n",
    "zoj_sna_analysis_item_id['EigenvectorCentrality'] = zoj_sna_analysis_item_id[['EigenvectorCentrality']].apply(max_min_scaler)\n",
    "#\n",
    "zoj_sna_analysis['ClusteringCoeff'] = zoj_sna_analysis[['ClusteringCoeff']].apply(max_min_scaler)\n",
    "zoj_sna_analysis_item_id['ClusteringCoeff'] = zoj_sna_analysis_item_id[['ClusteringCoeff']].apply(max_min_scaler)\n",
    "#\n",
    "##\n",
    "#BetweennessCentrality\n",
    "zoj_sna_analysis['BetweennessCentrality'] = zoj_sna_analysis[['BetweennessCentrality']].apply(max_min_scaler)\n",
    "zoj_sna_analysis_item_id['BetweennessCentrality'] = zoj_sna_analysis_item_id[['BetweennessCentrality']].apply(max_min_scaler)\n",
    "# ##\n",
    "# ##\n",
    "# ##"
   ]
  },
  {
   "cell_type": "code",
   "execution_count": null,
   "metadata": {},
   "outputs": [],
   "source": []
  },
  {
   "cell_type": "code",
   "execution_count": null,
   "metadata": {},
   "outputs": [],
   "source": [
    "zoj_sna_analysis"
   ]
  },
  {
   "cell_type": "code",
   "execution_count": null,
   "metadata": {},
   "outputs": [],
   "source": [
    "from sklearn.neighbors import NearestNeighbors\n",
    "neigh = NearestNeighbors(n_neighbors=1)"
   ]
  },
  {
   "cell_type": "code",
   "execution_count": null,
   "metadata": {},
   "outputs": [],
   "source": [
    "neigh.fit(zoj_sna_analysis[['DegreeCentrality','EigenvectorCentrality','HarmonicCentrality','BetweennessCentrality']].values)"
   ]
  },
  {
   "cell_type": "code",
   "execution_count": null,
   "metadata": {},
   "outputs": [],
   "source": [
    "# demo1.loc[1001,:].values.reshape((1,-1))"
   ]
  },
  {
   "cell_type": "code",
   "execution_count": null,
   "metadata": {},
   "outputs": [],
   "source": [
    "ind = neigh.kneighbors(zoj_sna_analysis_item_id.loc[1409,:].values.reshape((1,-1)),10, return_distance=False)"
   ]
  },
  {
   "cell_type": "code",
   "execution_count": null,
   "metadata": {},
   "outputs": [],
   "source": [
    "zoj_sna_analysis.loc[ind.tolist()[0]].iloc[:,0].tolist()"
   ]
  },
  {
   "cell_type": "code",
   "execution_count": null,
   "metadata": {
    "scrolled": true
   },
   "outputs": [],
   "source": [
    "recall_item_num = 11\n",
    "zoj = pd.read_csv('./nx_create/nx_graph_df_zoj.csv',header=None,sep=' ',names=['source','target','weight'])\n",
    "\n",
    "source_target = list(zip(zoj.source.tolist(),zoj.target.tolist()))\n",
    "source_target_dict = {}\n",
    "\n",
    "item_recall_list = {}\n",
    "for iid in tqdm(zoj_sna_analysis['item_id'].unique()):\n",
    "    ind = neigh.kneighbors(zoj_sna_analysis_item_id.loc[iid,['DegreeCentrality','EigenvectorCentrality','HarmonicCentrality','BetweennessCentrality']].values.reshape((1,-1)),recall_item_num, return_distance=False)\n",
    "    item_recall_list[iid] = zoj_sna_analysis.loc[ind.tolist()[0]].iloc[:,0].tolist()[1:]\n",
    "#     print(item_recall_list)\n",
    "\n",
    "eva_data = []\n",
    "for iid,group in zoj.groupby('source'):\n",
    "    if len(group)>10:\n",
    "        tmp = list(zip(group.source,group.target))[:10]\n",
    "    else: tmp = list(zip(group.source,group.target))\n",
    "    eva_data.extend(tmp[:])   \n",
    "\n",
    "\n",
    "def metrics_recall(eva_data,item_recall_list, k=10):\n",
    "    item_num = len(item_recall_list)\n",
    "    \n",
    "    hit_num = 0\n",
    "    score=0\n",
    "    past = []\n",
    "    for iid, recall_list in tqdm(item_recall_list.items()):\n",
    " \n",
    "        tmp_recall_items = item_recall_list[iid][:k] \n",
    "        for s,t in eva_data:\n",
    "            if s == iid and t in list(tmp_recall_items):\n",
    "                rank = list(tmp_recall_items).index(t)\n",
    "                score += 1.0/(rank+1.0)\n",
    "                hit_num += 1\n",
    "                break\n",
    "    \n",
    "\n",
    "    \n",
    "\n",
    "    ###\n",
    "            \n",
    "    mrr_score = round(score* 1.0 / item_num, 5)\n",
    "    hit_rate = round(hit_num * 1.0 / item_num, 5)\n",
    "    print(' topk: ', k, ' : ', 'hit_num: ', hit_num, 'hit_rate: ', hit_rate, 'user_num : ', item_num)\n",
    "    print(' topk: ', k, ' : ', 'hit_num: ', hit_num, 'mrr_score: ', mrr_score, 'user_num : ', item_num)\n",
    "        \n",
    "        \n"
   ]
  },
  {
   "cell_type": "code",
   "execution_count": null,
   "metadata": {},
   "outputs": [],
   "source": [
    "metrics_recall(source_target,item_recall_list,3)"
   ]
  },
  {
   "cell_type": "code",
   "execution_count": null,
   "metadata": {
    "scrolled": true
   },
   "outputs": [],
   "source": [
    "# metrics_recall(source_target,item_recall_list,5)"
   ]
  },
  {
   "cell_type": "code",
   "execution_count": null,
   "metadata": {},
   "outputs": [],
   "source": [
    "metrics_recall(source_target,item_recall_list,5)"
   ]
  },
  {
   "cell_type": "code",
   "execution_count": null,
   "metadata": {},
   "outputs": [],
   "source": [
    "metrics_recall(source_target,item_recall_list,10)"
   ]
  },
  {
   "cell_type": "code",
   "execution_count": null,
   "metadata": {},
   "outputs": [],
   "source": [
    "# scaler\n",
    "metrics_recall(source_target,item_recall_list,3)"
   ]
  },
  {
   "cell_type": "code",
   "execution_count": null,
   "metadata": {},
   "outputs": [],
   "source": [
    "metrics_recall(source_target,item_recall_list,5)"
   ]
  },
  {
   "cell_type": "code",
   "execution_count": null,
   "metadata": {},
   "outputs": [],
   "source": [
    "metrics_recall(source_target,item_recall_list,10)"
   ]
  },
  {
   "cell_type": "code",
   "execution_count": null,
   "metadata": {},
   "outputs": [],
   "source": [
    "item_recall_list"
   ]
  },
  {
   "cell_type": "code",
   "execution_count": null,
   "metadata": {},
   "outputs": [],
   "source": [
    "plt.subplots(1,1,figsize=(36,36))\n",
    "nx.draw(zoj_G,with_labels=True, font_weight='bold',width = 0.5)\n",
    "\n",
    "plt.axis('on')\n",
    "plt.show()"
   ]
  },
  {
   "cell_type": "code",
   "execution_count": null,
   "metadata": {},
   "outputs": [],
   "source": [
    "zoj[zoj.weight>5].source.nunique()"
   ]
  },
  {
   "cell_type": "code",
   "execution_count": null,
   "metadata": {},
   "outputs": [],
   "source": [
    "zoj[:5]"
   ]
  },
  {
   "cell_type": "code",
   "execution_count": null,
   "metadata": {},
   "outputs": [],
   "source": [
    "len(eva_data)"
   ]
  },
  {
   "cell_type": "code",
   "execution_count": null,
   "metadata": {},
   "outputs": [],
   "source": []
  }
 ],
 "metadata": {
  "kernelspec": {
   "display_name": "Python 3",
   "language": "python",
   "name": "python3"
  },
  "language_info": {
   "codemirror_mode": {
    "name": "ipython",
    "version": 3
   },
   "file_extension": ".py",
   "mimetype": "text/x-python",
   "name": "python",
   "nbconvert_exporter": "python",
   "pygments_lexer": "ipython3",
   "version": "3.7.6"
  }
 },
 "nbformat": 4,
 "nbformat_minor": 4
}
